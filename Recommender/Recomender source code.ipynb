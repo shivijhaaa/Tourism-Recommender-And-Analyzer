{
 "cells": [
  {
   "cell_type": "code",
   "execution_count": 4,
   "id": "e772e493",
   "metadata": {},
   "outputs": [],
   "source": [
    "import pandas as pd\n",
    "import numpy as np"
   ]
  },
  {
   "cell_type": "code",
   "execution_count": 5,
   "id": "ef6689ac",
   "metadata": {},
   "outputs": [],
   "source": [
    "tour = pd.read_csv('finaldata.csv')"
   ]
  },
  {
   "cell_type": "code",
   "execution_count": 6,
   "id": "60cab33c",
   "metadata": {},
   "outputs": [
    {
     "data": {
      "text/html": [
       "<div>\n",
       "<style scoped>\n",
       "    .dataframe tbody tr th:only-of-type {\n",
       "        vertical-align: middle;\n",
       "    }\n",
       "\n",
       "    .dataframe tbody tr th {\n",
       "        vertical-align: top;\n",
       "    }\n",
       "\n",
       "    .dataframe thead th {\n",
       "        text-align: right;\n",
       "    }\n",
       "</style>\n",
       "<table border=\"1\" class=\"dataframe\">\n",
       "  <thead>\n",
       "    <tr style=\"text-align: right;\">\n",
       "      <th></th>\n",
       "      <th>S.no</th>\n",
       "      <th>state</th>\n",
       "      <th>City</th>\n",
       "      <th>Place</th>\n",
       "      <th>URL</th>\n",
       "      <th>Best_time_to_visit</th>\n",
       "      <th>Distance</th>\n",
       "      <th>Place_desc</th>\n",
       "    </tr>\n",
       "  </thead>\n",
       "  <tbody>\n",
       "    <tr>\n",
       "      <th>0</th>\n",
       "      <td>0</td>\n",
       "      <td>Himanchal Pradesh</td>\n",
       "      <td>Manali</td>\n",
       "      <td>1. Capture the Sceneries of Old Manali</td>\n",
       "      <td>https://i.pinimg.com/564x/e0/69/43/e06943cb6f2...</td>\n",
       "      <td>October-June</td>\n",
       "      <td>2 km  from city center</td>\n",
       "      <td>On the other side of the Manalsu river is a p...</td>\n",
       "    </tr>\n",
       "    <tr>\n",
       "      <th>1</th>\n",
       "      <td>1</td>\n",
       "      <td>Himanchal Pradesh</td>\n",
       "      <td>Manali</td>\n",
       "      <td>2. Engage in the Adventures of Solang Valley</td>\n",
       "      <td>https://i.pinimg.com/564x/e0/69/43/e06943cb6f2...</td>\n",
       "      <td>October-June</td>\n",
       "      <td>8 km  from city center</td>\n",
       "      <td>Solang Valley is one of the most popular tour...</td>\n",
       "    </tr>\n",
       "    <tr>\n",
       "      <th>2</th>\n",
       "      <td>2</td>\n",
       "      <td>Himanchal Pradesh</td>\n",
       "      <td>Manali</td>\n",
       "      <td>3. Jogini Waterfall</td>\n",
       "      <td>https://i.pinimg.com/564x/1c/ba/14/1cba141bf72...</td>\n",
       "      <td>October-June</td>\n",
       "      <td>4 km  from city center</td>\n",
       "      <td>Jogini Waterfall is located about 3 kilometre...</td>\n",
       "    </tr>\n",
       "    <tr>\n",
       "      <th>3</th>\n",
       "      <td>3</td>\n",
       "      <td>Himanchal Pradesh</td>\n",
       "      <td>Manali</td>\n",
       "      <td>4. Hadimba Temple</td>\n",
       "      <td>https://i.pinimg.com/564x/1c/ba/14/1cba141bf72...</td>\n",
       "      <td>October-June</td>\n",
       "      <td>1 km  from city center</td>\n",
       "      <td>Hadimba temple, away from the hustle and bust...</td>\n",
       "    </tr>\n",
       "    <tr>\n",
       "      <th>4</th>\n",
       "      <td>4</td>\n",
       "      <td>Himanchal Pradesh</td>\n",
       "      <td>Manali</td>\n",
       "      <td>5. Rohtang Pass</td>\n",
       "      <td>https://i.pinimg.com/564x/2a/09/43/2a09433e344...</td>\n",
       "      <td>October-June</td>\n",
       "      <td>16 km  from city center</td>\n",
       "      <td>Rohtang pass is the stretch which connects Ma...</td>\n",
       "    </tr>\n",
       "  </tbody>\n",
       "</table>\n",
       "</div>"
      ],
      "text/plain": [
       "   S.no              state    City  \\\n",
       "0     0  Himanchal Pradesh  Manali   \n",
       "1     1  Himanchal Pradesh  Manali   \n",
       "2     2  Himanchal Pradesh  Manali   \n",
       "3     3  Himanchal Pradesh  Manali   \n",
       "4     4  Himanchal Pradesh  Manali   \n",
       "\n",
       "                                            Place  \\\n",
       "0         1. Capture the Sceneries of Old Manali    \n",
       "1   2. Engage in the Adventures of Solang Valley    \n",
       "2                            3. Jogini Waterfall    \n",
       "3                              4. Hadimba Temple    \n",
       "4                                5. Rohtang Pass    \n",
       "\n",
       "                                                 URL Best_time_to_visit  \\\n",
       "0  https://i.pinimg.com/564x/e0/69/43/e06943cb6f2...       October-June   \n",
       "1  https://i.pinimg.com/564x/e0/69/43/e06943cb6f2...       October-June   \n",
       "2  https://i.pinimg.com/564x/1c/ba/14/1cba141bf72...       October-June   \n",
       "3  https://i.pinimg.com/564x/1c/ba/14/1cba141bf72...       October-June   \n",
       "4  https://i.pinimg.com/564x/2a/09/43/2a09433e344...       October-June   \n",
       "\n",
       "                    Distance  \\\n",
       "0    2 km  from city center    \n",
       "1    8 km  from city center    \n",
       "2    4 km  from city center    \n",
       "3    1 km  from city center    \n",
       "4   16 km  from city center    \n",
       "\n",
       "                                          Place_desc  \n",
       "0   On the other side of the Manalsu river is a p...  \n",
       "1   Solang Valley is one of the most popular tour...  \n",
       "2   Jogini Waterfall is located about 3 kilometre...  \n",
       "3   Hadimba temple, away from the hustle and bust...  \n",
       "4   Rohtang pass is the stretch which connects Ma...  "
      ]
     },
     "execution_count": 6,
     "metadata": {},
     "output_type": "execute_result"
    }
   ],
   "source": [
    "tour.head()\n"
   ]
  },
  {
   "cell_type": "code",
   "execution_count": 7,
   "id": "b47c46b3",
   "metadata": {},
   "outputs": [
    {
     "data": {
      "text/plain": [
       "(2989, 8)"
      ]
     },
     "execution_count": 7,
     "metadata": {},
     "output_type": "execute_result"
    }
   ],
   "source": [
    "tour.shape\n"
   ]
  },
  {
   "cell_type": "code",
   "execution_count": 8,
   "id": "e4b699fe",
   "metadata": {},
   "outputs": [],
   "source": [
    "tourism = tour[['state','City','Place','URL']]"
   ]
  },
  {
   "cell_type": "code",
   "execution_count": 9,
   "id": "64112bbf",
   "metadata": {},
   "outputs": [
    {
     "data": {
      "text/html": [
       "<div>\n",
       "<style scoped>\n",
       "    .dataframe tbody tr th:only-of-type {\n",
       "        vertical-align: middle;\n",
       "    }\n",
       "\n",
       "    .dataframe tbody tr th {\n",
       "        vertical-align: top;\n",
       "    }\n",
       "\n",
       "    .dataframe thead th {\n",
       "        text-align: right;\n",
       "    }\n",
       "</style>\n",
       "<table border=\"1\" class=\"dataframe\">\n",
       "  <thead>\n",
       "    <tr style=\"text-align: right;\">\n",
       "      <th></th>\n",
       "      <th>state</th>\n",
       "      <th>City</th>\n",
       "      <th>Place</th>\n",
       "      <th>URL</th>\n",
       "    </tr>\n",
       "  </thead>\n",
       "  <tbody>\n",
       "    <tr>\n",
       "      <th>0</th>\n",
       "      <td>Himanchal Pradesh</td>\n",
       "      <td>Manali</td>\n",
       "      <td>1. Capture the Sceneries of Old Manali</td>\n",
       "      <td>https://i.pinimg.com/564x/e0/69/43/e06943cb6f2...</td>\n",
       "    </tr>\n",
       "    <tr>\n",
       "      <th>1</th>\n",
       "      <td>Himanchal Pradesh</td>\n",
       "      <td>Manali</td>\n",
       "      <td>2. Engage in the Adventures of Solang Valley</td>\n",
       "      <td>https://i.pinimg.com/564x/e0/69/43/e06943cb6f2...</td>\n",
       "    </tr>\n",
       "    <tr>\n",
       "      <th>2</th>\n",
       "      <td>Himanchal Pradesh</td>\n",
       "      <td>Manali</td>\n",
       "      <td>3. Jogini Waterfall</td>\n",
       "      <td>https://i.pinimg.com/564x/1c/ba/14/1cba141bf72...</td>\n",
       "    </tr>\n",
       "    <tr>\n",
       "      <th>3</th>\n",
       "      <td>Himanchal Pradesh</td>\n",
       "      <td>Manali</td>\n",
       "      <td>4. Hadimba Temple</td>\n",
       "      <td>https://i.pinimg.com/564x/1c/ba/14/1cba141bf72...</td>\n",
       "    </tr>\n",
       "    <tr>\n",
       "      <th>4</th>\n",
       "      <td>Himanchal Pradesh</td>\n",
       "      <td>Manali</td>\n",
       "      <td>5. Rohtang Pass</td>\n",
       "      <td>https://i.pinimg.com/564x/2a/09/43/2a09433e344...</td>\n",
       "    </tr>\n",
       "  </tbody>\n",
       "</table>\n",
       "</div>"
      ],
      "text/plain": [
       "               state    City                                           Place  \\\n",
       "0  Himanchal Pradesh  Manali         1. Capture the Sceneries of Old Manali    \n",
       "1  Himanchal Pradesh  Manali   2. Engage in the Adventures of Solang Valley    \n",
       "2  Himanchal Pradesh  Manali                            3. Jogini Waterfall    \n",
       "3  Himanchal Pradesh  Manali                              4. Hadimba Temple    \n",
       "4  Himanchal Pradesh  Manali                                5. Rohtang Pass    \n",
       "\n",
       "                                                 URL  \n",
       "0  https://i.pinimg.com/564x/e0/69/43/e06943cb6f2...  \n",
       "1  https://i.pinimg.com/564x/e0/69/43/e06943cb6f2...  \n",
       "2  https://i.pinimg.com/564x/1c/ba/14/1cba141bf72...  \n",
       "3  https://i.pinimg.com/564x/1c/ba/14/1cba141bf72...  \n",
       "4  https://i.pinimg.com/564x/2a/09/43/2a09433e344...  "
      ]
     },
     "execution_count": 9,
     "metadata": {},
     "output_type": "execute_result"
    }
   ],
   "source": [
    "tourism.head()"
   ]
  },
  {
   "cell_type": "code",
   "execution_count": 10,
   "id": "16285c82",
   "metadata": {
    "scrolled": true
   },
   "outputs": [
    {
     "data": {
      "text/html": [
       "<div>\n",
       "<style scoped>\n",
       "    .dataframe tbody tr th:only-of-type {\n",
       "        vertical-align: middle;\n",
       "    }\n",
       "\n",
       "    .dataframe tbody tr th {\n",
       "        vertical-align: top;\n",
       "    }\n",
       "\n",
       "    .dataframe thead th {\n",
       "        text-align: right;\n",
       "    }\n",
       "</style>\n",
       "<table border=\"1\" class=\"dataframe\">\n",
       "  <thead>\n",
       "    <tr style=\"text-align: right;\">\n",
       "      <th></th>\n",
       "      <th>state</th>\n",
       "      <th>City</th>\n",
       "      <th>Place</th>\n",
       "      <th>URL</th>\n",
       "    </tr>\n",
       "  </thead>\n",
       "  <tbody>\n",
       "    <tr>\n",
       "      <th>0</th>\n",
       "      <td>Himanchal Pradesh</td>\n",
       "      <td>Manali</td>\n",
       "      <td>1. Capture the Sceneries of Old Manali</td>\n",
       "      <td>https://i.pinimg.com/564x/e0/69/43/e06943cb6f2...</td>\n",
       "    </tr>\n",
       "    <tr>\n",
       "      <th>1</th>\n",
       "      <td>Himanchal Pradesh</td>\n",
       "      <td>Manali</td>\n",
       "      <td>2. Engage in the Adventures of Solang Valley</td>\n",
       "      <td>https://i.pinimg.com/564x/e0/69/43/e06943cb6f2...</td>\n",
       "    </tr>\n",
       "    <tr>\n",
       "      <th>2</th>\n",
       "      <td>Himanchal Pradesh</td>\n",
       "      <td>Manali</td>\n",
       "      <td>3. Jogini Waterfall</td>\n",
       "      <td>https://i.pinimg.com/564x/1c/ba/14/1cba141bf72...</td>\n",
       "    </tr>\n",
       "    <tr>\n",
       "      <th>3</th>\n",
       "      <td>Himanchal Pradesh</td>\n",
       "      <td>Manali</td>\n",
       "      <td>4. Hadimba Temple</td>\n",
       "      <td>https://i.pinimg.com/564x/1c/ba/14/1cba141bf72...</td>\n",
       "    </tr>\n",
       "    <tr>\n",
       "      <th>4</th>\n",
       "      <td>Himanchal Pradesh</td>\n",
       "      <td>Manali</td>\n",
       "      <td>5. Rohtang Pass</td>\n",
       "      <td>https://i.pinimg.com/564x/2a/09/43/2a09433e344...</td>\n",
       "    </tr>\n",
       "    <tr>\n",
       "      <th>...</th>\n",
       "      <td>...</td>\n",
       "      <td>...</td>\n",
       "      <td>...</td>\n",
       "      <td>...</td>\n",
       "    </tr>\n",
       "    <tr>\n",
       "      <th>2984</th>\n",
       "      <td>Kerela</td>\n",
       "      <td>Poovar</td>\n",
       "      <td>5. The Fishing Village</td>\n",
       "      <td>NaN</td>\n",
       "    </tr>\n",
       "    <tr>\n",
       "      <th>2985</th>\n",
       "      <td>Kerela</td>\n",
       "      <td>Poovar</td>\n",
       "      <td>6. Cruises</td>\n",
       "      <td>NaN</td>\n",
       "    </tr>\n",
       "    <tr>\n",
       "      <th>2986</th>\n",
       "      <td>Kerela</td>\n",
       "      <td>Poovar</td>\n",
       "      <td>7. Kovalam Beach</td>\n",
       "      <td>NaN</td>\n",
       "    </tr>\n",
       "    <tr>\n",
       "      <th>2987</th>\n",
       "      <td>Kerela</td>\n",
       "      <td>Poovar</td>\n",
       "      <td>8. Boat Race</td>\n",
       "      <td>NaN</td>\n",
       "    </tr>\n",
       "    <tr>\n",
       "      <th>2988</th>\n",
       "      <td>Kerela</td>\n",
       "      <td>Poovar</td>\n",
       "      <td>9. Ayurveda</td>\n",
       "      <td>NaN</td>\n",
       "    </tr>\n",
       "  </tbody>\n",
       "</table>\n",
       "<p>2989 rows × 4 columns</p>\n",
       "</div>"
      ],
      "text/plain": [
       "                  state    City  \\\n",
       "0     Himanchal Pradesh  Manali   \n",
       "1     Himanchal Pradesh  Manali   \n",
       "2     Himanchal Pradesh  Manali   \n",
       "3     Himanchal Pradesh  Manali   \n",
       "4     Himanchal Pradesh  Manali   \n",
       "...                 ...     ...   \n",
       "2984             Kerela  Poovar   \n",
       "2985             Kerela  Poovar   \n",
       "2986             Kerela  Poovar   \n",
       "2987             Kerela  Poovar   \n",
       "2988             Kerela  Poovar   \n",
       "\n",
       "                                               Place  \\\n",
       "0            1. Capture the Sceneries of Old Manali    \n",
       "1      2. Engage in the Adventures of Solang Valley    \n",
       "2                               3. Jogini Waterfall    \n",
       "3                                 4. Hadimba Temple    \n",
       "4                                   5. Rohtang Pass    \n",
       "...                                              ...   \n",
       "2984                         5. The Fishing Village    \n",
       "2985                                     6. Cruises    \n",
       "2986                               7. Kovalam Beach    \n",
       "2987                                   8. Boat Race    \n",
       "2988                                    9. Ayurveda    \n",
       "\n",
       "                                                    URL  \n",
       "0     https://i.pinimg.com/564x/e0/69/43/e06943cb6f2...  \n",
       "1     https://i.pinimg.com/564x/e0/69/43/e06943cb6f2...  \n",
       "2     https://i.pinimg.com/564x/1c/ba/14/1cba141bf72...  \n",
       "3     https://i.pinimg.com/564x/1c/ba/14/1cba141bf72...  \n",
       "4     https://i.pinimg.com/564x/2a/09/43/2a09433e344...  \n",
       "...                                                 ...  \n",
       "2984                                                NaN  \n",
       "2985                                                NaN  \n",
       "2986                                                NaN  \n",
       "2987                                                NaN  \n",
       "2988                                                NaN  \n",
       "\n",
       "[2989 rows x 4 columns]"
      ]
     },
     "execution_count": 10,
     "metadata": {},
     "output_type": "execute_result"
    }
   ],
   "source": [
    "tourism"
   ]
  },
  {
   "cell_type": "code",
   "execution_count": 11,
   "id": "e70f8718",
   "metadata": {},
   "outputs": [
    {
     "data": {
      "text/plain": [
       "state       0\n",
       "City        0\n",
       "Place       0\n",
       "URL      2551\n",
       "dtype: int64"
      ]
     },
     "execution_count": 11,
     "metadata": {},
     "output_type": "execute_result"
    }
   ],
   "source": [
    "tourism.isnull().sum()"
   ]
  },
  {
   "cell_type": "code",
   "execution_count": 12,
   "id": "12cc2ff1",
   "metadata": {},
   "outputs": [
    {
     "data": {
      "text/plain": [
       "0"
      ]
     },
     "execution_count": 12,
     "metadata": {},
     "output_type": "execute_result"
    }
   ],
   "source": [
    "tourism.duplicated().sum()"
   ]
  },
  {
   "cell_type": "code",
   "execution_count": 13,
   "id": "a6b3a0ae",
   "metadata": {},
   "outputs": [
    {
     "data": {
      "text/plain": [
       "' 1. Capture the Sceneries of Old Manali '"
      ]
     },
     "execution_count": 13,
     "metadata": {},
     "output_type": "execute_result"
    }
   ],
   "source": [
    "tourism.iloc[0].Place"
   ]
  },
  {
   "cell_type": "code",
   "execution_count": 14,
   "id": "546cda51",
   "metadata": {},
   "outputs": [
    {
     "name": "stderr",
     "output_type": "stream",
     "text": [
      "C:\\Users\\shivi\\AppData\\Local\\Temp\\ipykernel_10804\\1564893881.py:1: SettingWithCopyWarning: \n",
      "A value is trying to be set on a copy of a slice from a DataFrame.\n",
      "Try using .loc[row_indexer,col_indexer] = value instead\n",
      "\n",
      "See the caveats in the documentation: https://pandas.pydata.org/pandas-docs/stable/user_guide/indexing.html#returning-a-view-versus-a-copy\n",
      "  tourism['Place'] = tourism['Place'].apply(lambda x:x.split())\n"
     ]
    }
   ],
   "source": [
    "tourism['Place'] = tourism['Place'].apply(lambda x:x.split())\n"
   ]
  },
  {
   "cell_type": "code",
   "execution_count": 15,
   "id": "465b6bfa",
   "metadata": {},
   "outputs": [
    {
     "name": "stderr",
     "output_type": "stream",
     "text": [
      "C:\\Users\\shivi\\AppData\\Local\\Temp\\ipykernel_10804\\4233413334.py:1: SettingWithCopyWarning: \n",
      "A value is trying to be set on a copy of a slice from a DataFrame.\n",
      "Try using .loc[row_indexer,col_indexer] = value instead\n",
      "\n",
      "See the caveats in the documentation: https://pandas.pydata.org/pandas-docs/stable/user_guide/indexing.html#returning-a-view-versus-a-copy\n",
      "  tourism['City'] = tourism['City'].apply(lambda x:x.split())\n"
     ]
    }
   ],
   "source": [
    "tourism['City'] = tourism['City'].apply(lambda x:x.split())\n"
   ]
  },
  {
   "cell_type": "code",
   "execution_count": 16,
   "id": "65ef3140",
   "metadata": {},
   "outputs": [],
   "source": [
    "#tourism['Distance'] = tourism['Distance'].apply(lambda x:x.split())\n"
   ]
  },
  {
   "cell_type": "code",
   "execution_count": 17,
   "id": "f041a423",
   "metadata": {},
   "outputs": [],
   "source": [
    "#tourism['Place_desc'] = tourism['Place_desc'].apply(lambda x:x.split())"
   ]
  },
  {
   "cell_type": "code",
   "execution_count": 18,
   "id": "5f0ed97f",
   "metadata": {},
   "outputs": [
    {
     "data": {
      "text/html": [
       "<div>\n",
       "<style scoped>\n",
       "    .dataframe tbody tr th:only-of-type {\n",
       "        vertical-align: middle;\n",
       "    }\n",
       "\n",
       "    .dataframe tbody tr th {\n",
       "        vertical-align: top;\n",
       "    }\n",
       "\n",
       "    .dataframe thead th {\n",
       "        text-align: right;\n",
       "    }\n",
       "</style>\n",
       "<table border=\"1\" class=\"dataframe\">\n",
       "  <thead>\n",
       "    <tr style=\"text-align: right;\">\n",
       "      <th></th>\n",
       "      <th>state</th>\n",
       "      <th>City</th>\n",
       "      <th>Place</th>\n",
       "      <th>URL</th>\n",
       "    </tr>\n",
       "  </thead>\n",
       "  <tbody>\n",
       "    <tr>\n",
       "      <th>0</th>\n",
       "      <td>Himanchal Pradesh</td>\n",
       "      <td>[Manali]</td>\n",
       "      <td>[1., Capture, the, Sceneries, of, Old, Manali]</td>\n",
       "      <td>https://i.pinimg.com/564x/e0/69/43/e06943cb6f2...</td>\n",
       "    </tr>\n",
       "    <tr>\n",
       "      <th>1</th>\n",
       "      <td>Himanchal Pradesh</td>\n",
       "      <td>[Manali]</td>\n",
       "      <td>[2., Engage, in, the, Adventures, of, Solang, ...</td>\n",
       "      <td>https://i.pinimg.com/564x/e0/69/43/e06943cb6f2...</td>\n",
       "    </tr>\n",
       "    <tr>\n",
       "      <th>2</th>\n",
       "      <td>Himanchal Pradesh</td>\n",
       "      <td>[Manali]</td>\n",
       "      <td>[3., Jogini, Waterfall]</td>\n",
       "      <td>https://i.pinimg.com/564x/1c/ba/14/1cba141bf72...</td>\n",
       "    </tr>\n",
       "    <tr>\n",
       "      <th>3</th>\n",
       "      <td>Himanchal Pradesh</td>\n",
       "      <td>[Manali]</td>\n",
       "      <td>[4., Hadimba, Temple]</td>\n",
       "      <td>https://i.pinimg.com/564x/1c/ba/14/1cba141bf72...</td>\n",
       "    </tr>\n",
       "    <tr>\n",
       "      <th>4</th>\n",
       "      <td>Himanchal Pradesh</td>\n",
       "      <td>[Manali]</td>\n",
       "      <td>[5., Rohtang, Pass]</td>\n",
       "      <td>https://i.pinimg.com/564x/2a/09/43/2a09433e344...</td>\n",
       "    </tr>\n",
       "  </tbody>\n",
       "</table>\n",
       "</div>"
      ],
      "text/plain": [
       "               state      City  \\\n",
       "0  Himanchal Pradesh  [Manali]   \n",
       "1  Himanchal Pradesh  [Manali]   \n",
       "2  Himanchal Pradesh  [Manali]   \n",
       "3  Himanchal Pradesh  [Manali]   \n",
       "4  Himanchal Pradesh  [Manali]   \n",
       "\n",
       "                                               Place  \\\n",
       "0     [1., Capture, the, Sceneries, of, Old, Manali]   \n",
       "1  [2., Engage, in, the, Adventures, of, Solang, ...   \n",
       "2                            [3., Jogini, Waterfall]   \n",
       "3                              [4., Hadimba, Temple]   \n",
       "4                                [5., Rohtang, Pass]   \n",
       "\n",
       "                                                 URL  \n",
       "0  https://i.pinimg.com/564x/e0/69/43/e06943cb6f2...  \n",
       "1  https://i.pinimg.com/564x/e0/69/43/e06943cb6f2...  \n",
       "2  https://i.pinimg.com/564x/1c/ba/14/1cba141bf72...  \n",
       "3  https://i.pinimg.com/564x/1c/ba/14/1cba141bf72...  \n",
       "4  https://i.pinimg.com/564x/2a/09/43/2a09433e344...  "
      ]
     },
     "execution_count": 18,
     "metadata": {},
     "output_type": "execute_result"
    }
   ],
   "source": [
    "tourism.head()"
   ]
  },
  {
   "cell_type": "raw",
   "id": "9ce9ccc4",
   "metadata": {},
   "source": [
    "print(tourism['Place'].dtype)"
   ]
  },
  {
   "cell_type": "code",
   "execution_count": 19,
   "id": "48a75028",
   "metadata": {},
   "outputs": [
    {
     "name": "stdout",
     "output_type": "stream",
     "text": [
      "no \n"
     ]
    }
   ],
   "source": [
    "if tourism['Place'].dtype == 'float':\n",
    "    print(\"float\")\n",
    "else:\n",
    "    print(\"no \")"
   ]
  },
  {
   "cell_type": "code",
   "execution_count": 20,
   "id": "ae60ea1e",
   "metadata": {},
   "outputs": [
    {
     "name": "stderr",
     "output_type": "stream",
     "text": [
      "C:\\Users\\shivi\\AppData\\Local\\Temp\\ipykernel_10804\\910868520.py:5: SettingWithCopyWarning: \n",
      "A value is trying to be set on a copy of a slice from a DataFrame.\n",
      "Try using .loc[row_indexer,col_indexer] = value instead\n",
      "\n",
      "See the caveats in the documentation: https://pandas.pydata.org/pandas-docs/stable/user_guide/indexing.html#returning-a-view-versus-a-copy\n",
      "  tourism['Place'] = tourism['Place'].map(remove_numeric)\n"
     ]
    },
    {
     "data": {
      "text/html": [
       "<div>\n",
       "<style scoped>\n",
       "    .dataframe tbody tr th:only-of-type {\n",
       "        vertical-align: middle;\n",
       "    }\n",
       "\n",
       "    .dataframe tbody tr th {\n",
       "        vertical-align: top;\n",
       "    }\n",
       "\n",
       "    .dataframe thead th {\n",
       "        text-align: right;\n",
       "    }\n",
       "</style>\n",
       "<table border=\"1\" class=\"dataframe\">\n",
       "  <thead>\n",
       "    <tr style=\"text-align: right;\">\n",
       "      <th></th>\n",
       "      <th>state</th>\n",
       "      <th>City</th>\n",
       "      <th>Place</th>\n",
       "      <th>URL</th>\n",
       "    </tr>\n",
       "  </thead>\n",
       "  <tbody>\n",
       "    <tr>\n",
       "      <th>0</th>\n",
       "      <td>Himanchal Pradesh</td>\n",
       "      <td>[Manali]</td>\n",
       "      <td>[1., Capture, the, Sceneries, of, Old, Manali]</td>\n",
       "      <td>https://i.pinimg.com/564x/e0/69/43/e06943cb6f2...</td>\n",
       "    </tr>\n",
       "    <tr>\n",
       "      <th>1</th>\n",
       "      <td>Himanchal Pradesh</td>\n",
       "      <td>[Manali]</td>\n",
       "      <td>[2., Engage, in, the, Adventures, of, Solang, ...</td>\n",
       "      <td>https://i.pinimg.com/564x/e0/69/43/e06943cb6f2...</td>\n",
       "    </tr>\n",
       "    <tr>\n",
       "      <th>2</th>\n",
       "      <td>Himanchal Pradesh</td>\n",
       "      <td>[Manali]</td>\n",
       "      <td>[3., Jogini, Waterfall]</td>\n",
       "      <td>https://i.pinimg.com/564x/1c/ba/14/1cba141bf72...</td>\n",
       "    </tr>\n",
       "    <tr>\n",
       "      <th>3</th>\n",
       "      <td>Himanchal Pradesh</td>\n",
       "      <td>[Manali]</td>\n",
       "      <td>[4., Hadimba, Temple]</td>\n",
       "      <td>https://i.pinimg.com/564x/1c/ba/14/1cba141bf72...</td>\n",
       "    </tr>\n",
       "    <tr>\n",
       "      <th>4</th>\n",
       "      <td>Himanchal Pradesh</td>\n",
       "      <td>[Manali]</td>\n",
       "      <td>[5., Rohtang, Pass]</td>\n",
       "      <td>https://i.pinimg.com/564x/2a/09/43/2a09433e344...</td>\n",
       "    </tr>\n",
       "    <tr>\n",
       "      <th>...</th>\n",
       "      <td>...</td>\n",
       "      <td>...</td>\n",
       "      <td>...</td>\n",
       "      <td>...</td>\n",
       "    </tr>\n",
       "    <tr>\n",
       "      <th>2984</th>\n",
       "      <td>Kerela</td>\n",
       "      <td>[Poovar]</td>\n",
       "      <td>[5., The, Fishing, Village]</td>\n",
       "      <td>NaN</td>\n",
       "    </tr>\n",
       "    <tr>\n",
       "      <th>2985</th>\n",
       "      <td>Kerela</td>\n",
       "      <td>[Poovar]</td>\n",
       "      <td>[6., Cruises]</td>\n",
       "      <td>NaN</td>\n",
       "    </tr>\n",
       "    <tr>\n",
       "      <th>2986</th>\n",
       "      <td>Kerela</td>\n",
       "      <td>[Poovar]</td>\n",
       "      <td>[7., Kovalam, Beach]</td>\n",
       "      <td>NaN</td>\n",
       "    </tr>\n",
       "    <tr>\n",
       "      <th>2987</th>\n",
       "      <td>Kerela</td>\n",
       "      <td>[Poovar]</td>\n",
       "      <td>[8., Boat, Race]</td>\n",
       "      <td>NaN</td>\n",
       "    </tr>\n",
       "    <tr>\n",
       "      <th>2988</th>\n",
       "      <td>Kerela</td>\n",
       "      <td>[Poovar]</td>\n",
       "      <td>[9., Ayurveda]</td>\n",
       "      <td>NaN</td>\n",
       "    </tr>\n",
       "  </tbody>\n",
       "</table>\n",
       "<p>2989 rows × 4 columns</p>\n",
       "</div>"
      ],
      "text/plain": [
       "                  state      City  \\\n",
       "0     Himanchal Pradesh  [Manali]   \n",
       "1     Himanchal Pradesh  [Manali]   \n",
       "2     Himanchal Pradesh  [Manali]   \n",
       "3     Himanchal Pradesh  [Manali]   \n",
       "4     Himanchal Pradesh  [Manali]   \n",
       "...                 ...       ...   \n",
       "2984             Kerela  [Poovar]   \n",
       "2985             Kerela  [Poovar]   \n",
       "2986             Kerela  [Poovar]   \n",
       "2987             Kerela  [Poovar]   \n",
       "2988             Kerela  [Poovar]   \n",
       "\n",
       "                                                  Place  \\\n",
       "0        [1., Capture, the, Sceneries, of, Old, Manali]   \n",
       "1     [2., Engage, in, the, Adventures, of, Solang, ...   \n",
       "2                               [3., Jogini, Waterfall]   \n",
       "3                                 [4., Hadimba, Temple]   \n",
       "4                                   [5., Rohtang, Pass]   \n",
       "...                                                 ...   \n",
       "2984                        [5., The, Fishing, Village]   \n",
       "2985                                      [6., Cruises]   \n",
       "2986                               [7., Kovalam, Beach]   \n",
       "2987                                   [8., Boat, Race]   \n",
       "2988                                     [9., Ayurveda]   \n",
       "\n",
       "                                                    URL  \n",
       "0     https://i.pinimg.com/564x/e0/69/43/e06943cb6f2...  \n",
       "1     https://i.pinimg.com/564x/e0/69/43/e06943cb6f2...  \n",
       "2     https://i.pinimg.com/564x/1c/ba/14/1cba141bf72...  \n",
       "3     https://i.pinimg.com/564x/1c/ba/14/1cba141bf72...  \n",
       "4     https://i.pinimg.com/564x/2a/09/43/2a09433e344...  \n",
       "...                                                 ...  \n",
       "2984                                                NaN  \n",
       "2985                                                NaN  \n",
       "2986                                                NaN  \n",
       "2987                                                NaN  \n",
       "2988                                                NaN  \n",
       "\n",
       "[2989 rows x 4 columns]"
      ]
     },
     "execution_count": 20,
     "metadata": {},
     "output_type": "execute_result"
    }
   ],
   "source": [
    "def remove_numeric(lst):\n",
    "    return list(map(lambda x: x if not x.isdigit() else '', lst))\n",
    "\n",
    "# Apply the function to the 'place' column using the map() function\n",
    "tourism['Place'] = tourism['Place'].map(remove_numeric)\n",
    "\n",
    "# Print the updated DataFrame\n",
    "tourism"
   ]
  },
  {
   "cell_type": "code",
   "execution_count": 21,
   "id": "d91c145e",
   "metadata": {},
   "outputs": [
    {
     "name": "stderr",
     "output_type": "stream",
     "text": [
      "C:\\Users\\shivi\\AppData\\Local\\Temp\\ipykernel_10804\\470623388.py:1: SettingWithCopyWarning: \n",
      "A value is trying to be set on a copy of a slice from a DataFrame.\n",
      "Try using .loc[row_indexer,col_indexer] = value instead\n",
      "\n",
      "See the caveats in the documentation: https://pandas.pydata.org/pandas-docs/stable/user_guide/indexing.html#returning-a-view-versus-a-copy\n",
      "  tourism['Place'] = tourism['Place'].apply(lambda x: x[1:])\n"
     ]
    }
   ],
   "source": [
    "tourism['Place'] = tourism['Place'].apply(lambda x: x[1:])\n"
   ]
  },
  {
   "cell_type": "code",
   "execution_count": 22,
   "id": "7b1c0e41",
   "metadata": {},
   "outputs": [
    {
     "data": {
      "text/html": [
       "<div>\n",
       "<style scoped>\n",
       "    .dataframe tbody tr th:only-of-type {\n",
       "        vertical-align: middle;\n",
       "    }\n",
       "\n",
       "    .dataframe tbody tr th {\n",
       "        vertical-align: top;\n",
       "    }\n",
       "\n",
       "    .dataframe thead th {\n",
       "        text-align: right;\n",
       "    }\n",
       "</style>\n",
       "<table border=\"1\" class=\"dataframe\">\n",
       "  <thead>\n",
       "    <tr style=\"text-align: right;\">\n",
       "      <th></th>\n",
       "      <th>state</th>\n",
       "      <th>City</th>\n",
       "      <th>Place</th>\n",
       "      <th>URL</th>\n",
       "    </tr>\n",
       "  </thead>\n",
       "  <tbody>\n",
       "    <tr>\n",
       "      <th>0</th>\n",
       "      <td>Himanchal Pradesh</td>\n",
       "      <td>[Manali]</td>\n",
       "      <td>[Capture, the, Sceneries, of, Old, Manali]</td>\n",
       "      <td>https://i.pinimg.com/564x/e0/69/43/e06943cb6f2...</td>\n",
       "    </tr>\n",
       "    <tr>\n",
       "      <th>1</th>\n",
       "      <td>Himanchal Pradesh</td>\n",
       "      <td>[Manali]</td>\n",
       "      <td>[Engage, in, the, Adventures, of, Solang, Valley]</td>\n",
       "      <td>https://i.pinimg.com/564x/e0/69/43/e06943cb6f2...</td>\n",
       "    </tr>\n",
       "    <tr>\n",
       "      <th>2</th>\n",
       "      <td>Himanchal Pradesh</td>\n",
       "      <td>[Manali]</td>\n",
       "      <td>[Jogini, Waterfall]</td>\n",
       "      <td>https://i.pinimg.com/564x/1c/ba/14/1cba141bf72...</td>\n",
       "    </tr>\n",
       "    <tr>\n",
       "      <th>3</th>\n",
       "      <td>Himanchal Pradesh</td>\n",
       "      <td>[Manali]</td>\n",
       "      <td>[Hadimba, Temple]</td>\n",
       "      <td>https://i.pinimg.com/564x/1c/ba/14/1cba141bf72...</td>\n",
       "    </tr>\n",
       "    <tr>\n",
       "      <th>4</th>\n",
       "      <td>Himanchal Pradesh</td>\n",
       "      <td>[Manali]</td>\n",
       "      <td>[Rohtang, Pass]</td>\n",
       "      <td>https://i.pinimg.com/564x/2a/09/43/2a09433e344...</td>\n",
       "    </tr>\n",
       "    <tr>\n",
       "      <th>...</th>\n",
       "      <td>...</td>\n",
       "      <td>...</td>\n",
       "      <td>...</td>\n",
       "      <td>...</td>\n",
       "    </tr>\n",
       "    <tr>\n",
       "      <th>2984</th>\n",
       "      <td>Kerela</td>\n",
       "      <td>[Poovar]</td>\n",
       "      <td>[The, Fishing, Village]</td>\n",
       "      <td>NaN</td>\n",
       "    </tr>\n",
       "    <tr>\n",
       "      <th>2985</th>\n",
       "      <td>Kerela</td>\n",
       "      <td>[Poovar]</td>\n",
       "      <td>[Cruises]</td>\n",
       "      <td>NaN</td>\n",
       "    </tr>\n",
       "    <tr>\n",
       "      <th>2986</th>\n",
       "      <td>Kerela</td>\n",
       "      <td>[Poovar]</td>\n",
       "      <td>[Kovalam, Beach]</td>\n",
       "      <td>NaN</td>\n",
       "    </tr>\n",
       "    <tr>\n",
       "      <th>2987</th>\n",
       "      <td>Kerela</td>\n",
       "      <td>[Poovar]</td>\n",
       "      <td>[Boat, Race]</td>\n",
       "      <td>NaN</td>\n",
       "    </tr>\n",
       "    <tr>\n",
       "      <th>2988</th>\n",
       "      <td>Kerela</td>\n",
       "      <td>[Poovar]</td>\n",
       "      <td>[Ayurveda]</td>\n",
       "      <td>NaN</td>\n",
       "    </tr>\n",
       "  </tbody>\n",
       "</table>\n",
       "<p>2989 rows × 4 columns</p>\n",
       "</div>"
      ],
      "text/plain": [
       "                  state      City  \\\n",
       "0     Himanchal Pradesh  [Manali]   \n",
       "1     Himanchal Pradesh  [Manali]   \n",
       "2     Himanchal Pradesh  [Manali]   \n",
       "3     Himanchal Pradesh  [Manali]   \n",
       "4     Himanchal Pradesh  [Manali]   \n",
       "...                 ...       ...   \n",
       "2984             Kerela  [Poovar]   \n",
       "2985             Kerela  [Poovar]   \n",
       "2986             Kerela  [Poovar]   \n",
       "2987             Kerela  [Poovar]   \n",
       "2988             Kerela  [Poovar]   \n",
       "\n",
       "                                                  Place  \\\n",
       "0            [Capture, the, Sceneries, of, Old, Manali]   \n",
       "1     [Engage, in, the, Adventures, of, Solang, Valley]   \n",
       "2                                   [Jogini, Waterfall]   \n",
       "3                                     [Hadimba, Temple]   \n",
       "4                                       [Rohtang, Pass]   \n",
       "...                                                 ...   \n",
       "2984                            [The, Fishing, Village]   \n",
       "2985                                          [Cruises]   \n",
       "2986                                   [Kovalam, Beach]   \n",
       "2987                                       [Boat, Race]   \n",
       "2988                                         [Ayurveda]   \n",
       "\n",
       "                                                    URL  \n",
       "0     https://i.pinimg.com/564x/e0/69/43/e06943cb6f2...  \n",
       "1     https://i.pinimg.com/564x/e0/69/43/e06943cb6f2...  \n",
       "2     https://i.pinimg.com/564x/1c/ba/14/1cba141bf72...  \n",
       "3     https://i.pinimg.com/564x/1c/ba/14/1cba141bf72...  \n",
       "4     https://i.pinimg.com/564x/2a/09/43/2a09433e344...  \n",
       "...                                                 ...  \n",
       "2984                                                NaN  \n",
       "2985                                                NaN  \n",
       "2986                                                NaN  \n",
       "2987                                                NaN  \n",
       "2988                                                NaN  \n",
       "\n",
       "[2989 rows x 4 columns]"
      ]
     },
     "execution_count": 22,
     "metadata": {},
     "output_type": "execute_result"
    }
   ],
   "source": [
    "tourism"
   ]
  },
  {
   "cell_type": "code",
   "execution_count": 23,
   "id": "f741e4b5",
   "metadata": {},
   "outputs": [
    {
     "name": "stdout",
     "output_type": "stream",
     "text": [
      "Index(['state', 'City', 'Place', 'URL'], dtype='object')\n"
     ]
    }
   ],
   "source": [
    "print(tourism.columns)"
   ]
  },
  {
   "cell_type": "code",
   "execution_count": 24,
   "id": "3ac1c78f",
   "metadata": {},
   "outputs": [
    {
     "name": "stderr",
     "output_type": "stream",
     "text": [
      "C:\\Users\\shivi\\AppData\\Local\\Temp\\ipykernel_10804\\1037799734.py:1: SettingWithCopyWarning: \n",
      "A value is trying to be set on a copy of a slice from a DataFrame.\n",
      "Try using .loc[row_indexer,col_indexer] = value instead\n",
      "\n",
      "See the caveats in the documentation: https://pandas.pydata.org/pandas-docs/stable/user_guide/indexing.html#returning-a-view-versus-a-copy\n",
      "  tourism['City'] = tourism['City'].apply(lambda x:[i.replace(\" \",\"\") for i in x])\n",
      "C:\\Users\\shivi\\AppData\\Local\\Temp\\ipykernel_10804\\1037799734.py:2: SettingWithCopyWarning: \n",
      "A value is trying to be set on a copy of a slice from a DataFrame.\n",
      "Try using .loc[row_indexer,col_indexer] = value instead\n",
      "\n",
      "See the caveats in the documentation: https://pandas.pydata.org/pandas-docs/stable/user_guide/indexing.html#returning-a-view-versus-a-copy\n",
      "  tourism['Place'] = tourism['Place'].apply(lambda x:[i.replace(\" \",\"\") for i in x])\n"
     ]
    }
   ],
   "source": [
    "tourism['City'] = tourism['City'].apply(lambda x:[i.replace(\" \",\"\") for i in x])\n",
    "tourism['Place'] = tourism['Place'].apply(lambda x:[i.replace(\" \",\"\") for i in x])\n",
    "#tourism['Best_time_to_visit'] = tourism['Best_time_to_visit'].apply(lambda x:[i.replace(\" \",\"\") for i in x])\n",
    "#tourism['Distance'] = tourism['Distance'].apply(lambda x:[i.replace(\" \",\"\") for i in x])\n",
    "#tourism['Place_desc'] = tourism['Place_desc'].apply(lambda x:[i.replace(\" \",\"\") for i in x])\n"
   ]
  },
  {
   "cell_type": "code",
   "execution_count": 25,
   "id": "d8ba7a0e",
   "metadata": {},
   "outputs": [
    {
     "data": {
      "text/html": [
       "<div>\n",
       "<style scoped>\n",
       "    .dataframe tbody tr th:only-of-type {\n",
       "        vertical-align: middle;\n",
       "    }\n",
       "\n",
       "    .dataframe tbody tr th {\n",
       "        vertical-align: top;\n",
       "    }\n",
       "\n",
       "    .dataframe thead th {\n",
       "        text-align: right;\n",
       "    }\n",
       "</style>\n",
       "<table border=\"1\" class=\"dataframe\">\n",
       "  <thead>\n",
       "    <tr style=\"text-align: right;\">\n",
       "      <th></th>\n",
       "      <th>state</th>\n",
       "      <th>City</th>\n",
       "      <th>Place</th>\n",
       "      <th>URL</th>\n",
       "    </tr>\n",
       "  </thead>\n",
       "  <tbody>\n",
       "    <tr>\n",
       "      <th>0</th>\n",
       "      <td>Himanchal Pradesh</td>\n",
       "      <td>[Manali]</td>\n",
       "      <td>[Capture, the, Sceneries, of, Old, Manali]</td>\n",
       "      <td>https://i.pinimg.com/564x/e0/69/43/e06943cb6f2...</td>\n",
       "    </tr>\n",
       "    <tr>\n",
       "      <th>1</th>\n",
       "      <td>Himanchal Pradesh</td>\n",
       "      <td>[Manali]</td>\n",
       "      <td>[Engage, in, the, Adventures, of, Solang, Valley]</td>\n",
       "      <td>https://i.pinimg.com/564x/e0/69/43/e06943cb6f2...</td>\n",
       "    </tr>\n",
       "    <tr>\n",
       "      <th>2</th>\n",
       "      <td>Himanchal Pradesh</td>\n",
       "      <td>[Manali]</td>\n",
       "      <td>[Jogini, Waterfall]</td>\n",
       "      <td>https://i.pinimg.com/564x/1c/ba/14/1cba141bf72...</td>\n",
       "    </tr>\n",
       "    <tr>\n",
       "      <th>3</th>\n",
       "      <td>Himanchal Pradesh</td>\n",
       "      <td>[Manali]</td>\n",
       "      <td>[Hadimba, Temple]</td>\n",
       "      <td>https://i.pinimg.com/564x/1c/ba/14/1cba141bf72...</td>\n",
       "    </tr>\n",
       "    <tr>\n",
       "      <th>4</th>\n",
       "      <td>Himanchal Pradesh</td>\n",
       "      <td>[Manali]</td>\n",
       "      <td>[Rohtang, Pass]</td>\n",
       "      <td>https://i.pinimg.com/564x/2a/09/43/2a09433e344...</td>\n",
       "    </tr>\n",
       "    <tr>\n",
       "      <th>...</th>\n",
       "      <td>...</td>\n",
       "      <td>...</td>\n",
       "      <td>...</td>\n",
       "      <td>...</td>\n",
       "    </tr>\n",
       "    <tr>\n",
       "      <th>2984</th>\n",
       "      <td>Kerela</td>\n",
       "      <td>[Poovar]</td>\n",
       "      <td>[The, Fishing, Village]</td>\n",
       "      <td>NaN</td>\n",
       "    </tr>\n",
       "    <tr>\n",
       "      <th>2985</th>\n",
       "      <td>Kerela</td>\n",
       "      <td>[Poovar]</td>\n",
       "      <td>[Cruises]</td>\n",
       "      <td>NaN</td>\n",
       "    </tr>\n",
       "    <tr>\n",
       "      <th>2986</th>\n",
       "      <td>Kerela</td>\n",
       "      <td>[Poovar]</td>\n",
       "      <td>[Kovalam, Beach]</td>\n",
       "      <td>NaN</td>\n",
       "    </tr>\n",
       "    <tr>\n",
       "      <th>2987</th>\n",
       "      <td>Kerela</td>\n",
       "      <td>[Poovar]</td>\n",
       "      <td>[Boat, Race]</td>\n",
       "      <td>NaN</td>\n",
       "    </tr>\n",
       "    <tr>\n",
       "      <th>2988</th>\n",
       "      <td>Kerela</td>\n",
       "      <td>[Poovar]</td>\n",
       "      <td>[Ayurveda]</td>\n",
       "      <td>NaN</td>\n",
       "    </tr>\n",
       "  </tbody>\n",
       "</table>\n",
       "<p>2989 rows × 4 columns</p>\n",
       "</div>"
      ],
      "text/plain": [
       "                  state      City  \\\n",
       "0     Himanchal Pradesh  [Manali]   \n",
       "1     Himanchal Pradesh  [Manali]   \n",
       "2     Himanchal Pradesh  [Manali]   \n",
       "3     Himanchal Pradesh  [Manali]   \n",
       "4     Himanchal Pradesh  [Manali]   \n",
       "...                 ...       ...   \n",
       "2984             Kerela  [Poovar]   \n",
       "2985             Kerela  [Poovar]   \n",
       "2986             Kerela  [Poovar]   \n",
       "2987             Kerela  [Poovar]   \n",
       "2988             Kerela  [Poovar]   \n",
       "\n",
       "                                                  Place  \\\n",
       "0            [Capture, the, Sceneries, of, Old, Manali]   \n",
       "1     [Engage, in, the, Adventures, of, Solang, Valley]   \n",
       "2                                   [Jogini, Waterfall]   \n",
       "3                                     [Hadimba, Temple]   \n",
       "4                                       [Rohtang, Pass]   \n",
       "...                                                 ...   \n",
       "2984                            [The, Fishing, Village]   \n",
       "2985                                          [Cruises]   \n",
       "2986                                   [Kovalam, Beach]   \n",
       "2987                                       [Boat, Race]   \n",
       "2988                                         [Ayurveda]   \n",
       "\n",
       "                                                    URL  \n",
       "0     https://i.pinimg.com/564x/e0/69/43/e06943cb6f2...  \n",
       "1     https://i.pinimg.com/564x/e0/69/43/e06943cb6f2...  \n",
       "2     https://i.pinimg.com/564x/1c/ba/14/1cba141bf72...  \n",
       "3     https://i.pinimg.com/564x/1c/ba/14/1cba141bf72...  \n",
       "4     https://i.pinimg.com/564x/2a/09/43/2a09433e344...  \n",
       "...                                                 ...  \n",
       "2984                                                NaN  \n",
       "2985                                                NaN  \n",
       "2986                                                NaN  \n",
       "2987                                                NaN  \n",
       "2988                                                NaN  \n",
       "\n",
       "[2989 rows x 4 columns]"
      ]
     },
     "execution_count": 25,
     "metadata": {},
     "output_type": "execute_result"
    }
   ],
   "source": [
    "tourism"
   ]
  },
  {
   "cell_type": "code",
   "execution_count": 26,
   "id": "e8756697",
   "metadata": {},
   "outputs": [
    {
     "name": "stderr",
     "output_type": "stream",
     "text": [
      "C:\\Users\\shivi\\AppData\\Local\\Temp\\ipykernel_10804\\1015784251.py:1: SettingWithCopyWarning: \n",
      "A value is trying to be set on a copy of a slice from a DataFrame.\n",
      "Try using .loc[row_indexer,col_indexer] = value instead\n",
      "\n",
      "See the caveats in the documentation: https://pandas.pydata.org/pandas-docs/stable/user_guide/indexing.html#returning-a-view-versus-a-copy\n",
      "  tourism['tags'] = tourism['City'] + tourism['Place']\n"
     ]
    }
   ],
   "source": [
    "tourism['tags'] = tourism['City'] + tourism['Place'] "
   ]
  },
  {
   "cell_type": "code",
   "execution_count": 27,
   "id": "338ed637",
   "metadata": {},
   "outputs": [
    {
     "data": {
      "text/html": [
       "<div>\n",
       "<style scoped>\n",
       "    .dataframe tbody tr th:only-of-type {\n",
       "        vertical-align: middle;\n",
       "    }\n",
       "\n",
       "    .dataframe tbody tr th {\n",
       "        vertical-align: top;\n",
       "    }\n",
       "\n",
       "    .dataframe thead th {\n",
       "        text-align: right;\n",
       "    }\n",
       "</style>\n",
       "<table border=\"1\" class=\"dataframe\">\n",
       "  <thead>\n",
       "    <tr style=\"text-align: right;\">\n",
       "      <th></th>\n",
       "      <th>state</th>\n",
       "      <th>City</th>\n",
       "      <th>Place</th>\n",
       "      <th>URL</th>\n",
       "      <th>tags</th>\n",
       "    </tr>\n",
       "  </thead>\n",
       "  <tbody>\n",
       "    <tr>\n",
       "      <th>0</th>\n",
       "      <td>Himanchal Pradesh</td>\n",
       "      <td>[Manali]</td>\n",
       "      <td>[Capture, the, Sceneries, of, Old, Manali]</td>\n",
       "      <td>https://i.pinimg.com/564x/e0/69/43/e06943cb6f2...</td>\n",
       "      <td>[Manali, Capture, the, Sceneries, of, Old, Man...</td>\n",
       "    </tr>\n",
       "    <tr>\n",
       "      <th>1</th>\n",
       "      <td>Himanchal Pradesh</td>\n",
       "      <td>[Manali]</td>\n",
       "      <td>[Engage, in, the, Adventures, of, Solang, Valley]</td>\n",
       "      <td>https://i.pinimg.com/564x/e0/69/43/e06943cb6f2...</td>\n",
       "      <td>[Manali, Engage, in, the, Adventures, of, Sola...</td>\n",
       "    </tr>\n",
       "    <tr>\n",
       "      <th>2</th>\n",
       "      <td>Himanchal Pradesh</td>\n",
       "      <td>[Manali]</td>\n",
       "      <td>[Jogini, Waterfall]</td>\n",
       "      <td>https://i.pinimg.com/564x/1c/ba/14/1cba141bf72...</td>\n",
       "      <td>[Manali, Jogini, Waterfall]</td>\n",
       "    </tr>\n",
       "    <tr>\n",
       "      <th>3</th>\n",
       "      <td>Himanchal Pradesh</td>\n",
       "      <td>[Manali]</td>\n",
       "      <td>[Hadimba, Temple]</td>\n",
       "      <td>https://i.pinimg.com/564x/1c/ba/14/1cba141bf72...</td>\n",
       "      <td>[Manali, Hadimba, Temple]</td>\n",
       "    </tr>\n",
       "    <tr>\n",
       "      <th>4</th>\n",
       "      <td>Himanchal Pradesh</td>\n",
       "      <td>[Manali]</td>\n",
       "      <td>[Rohtang, Pass]</td>\n",
       "      <td>https://i.pinimg.com/564x/2a/09/43/2a09433e344...</td>\n",
       "      <td>[Manali, Rohtang, Pass]</td>\n",
       "    </tr>\n",
       "  </tbody>\n",
       "</table>\n",
       "</div>"
      ],
      "text/plain": [
       "               state      City  \\\n",
       "0  Himanchal Pradesh  [Manali]   \n",
       "1  Himanchal Pradesh  [Manali]   \n",
       "2  Himanchal Pradesh  [Manali]   \n",
       "3  Himanchal Pradesh  [Manali]   \n",
       "4  Himanchal Pradesh  [Manali]   \n",
       "\n",
       "                                               Place  \\\n",
       "0         [Capture, the, Sceneries, of, Old, Manali]   \n",
       "1  [Engage, in, the, Adventures, of, Solang, Valley]   \n",
       "2                                [Jogini, Waterfall]   \n",
       "3                                  [Hadimba, Temple]   \n",
       "4                                    [Rohtang, Pass]   \n",
       "\n",
       "                                                 URL  \\\n",
       "0  https://i.pinimg.com/564x/e0/69/43/e06943cb6f2...   \n",
       "1  https://i.pinimg.com/564x/e0/69/43/e06943cb6f2...   \n",
       "2  https://i.pinimg.com/564x/1c/ba/14/1cba141bf72...   \n",
       "3  https://i.pinimg.com/564x/1c/ba/14/1cba141bf72...   \n",
       "4  https://i.pinimg.com/564x/2a/09/43/2a09433e344...   \n",
       "\n",
       "                                                tags  \n",
       "0  [Manali, Capture, the, Sceneries, of, Old, Man...  \n",
       "1  [Manali, Engage, in, the, Adventures, of, Sola...  \n",
       "2                        [Manali, Jogini, Waterfall]  \n",
       "3                          [Manali, Hadimba, Temple]  \n",
       "4                            [Manali, Rohtang, Pass]  "
      ]
     },
     "execution_count": 27,
     "metadata": {},
     "output_type": "execute_result"
    }
   ],
   "source": [
    "tourism.head()"
   ]
  },
  {
   "cell_type": "code",
   "execution_count": 28,
   "id": "2f47d343",
   "metadata": {},
   "outputs": [
    {
     "data": {
      "text/plain": [
       "0    [Manali, Capture, the, Sceneries, of, Old, Man...\n",
       "1    [Manali, Engage, in, the, Adventures, of, Sola...\n",
       "2                          [Manali, Jogini, Waterfall]\n",
       "3                            [Manali, Hadimba, Temple]\n",
       "4                              [Manali, Rohtang, Pass]\n",
       "Name: tags, dtype: object"
      ]
     },
     "execution_count": 28,
     "metadata": {},
     "output_type": "execute_result"
    }
   ],
   "source": [
    "tourism['tags'].head()"
   ]
  },
  {
   "cell_type": "code",
   "execution_count": 29,
   "id": "bf39c5ba",
   "metadata": {},
   "outputs": [],
   "source": [
    "new_tour = tourism[['state', 'City' ,'Place','URL','tags']]"
   ]
  },
  {
   "cell_type": "code",
   "execution_count": 30,
   "id": "2711aee8",
   "metadata": {},
   "outputs": [
    {
     "data": {
      "text/html": [
       "<div>\n",
       "<style scoped>\n",
       "    .dataframe tbody tr th:only-of-type {\n",
       "        vertical-align: middle;\n",
       "    }\n",
       "\n",
       "    .dataframe tbody tr th {\n",
       "        vertical-align: top;\n",
       "    }\n",
       "\n",
       "    .dataframe thead th {\n",
       "        text-align: right;\n",
       "    }\n",
       "</style>\n",
       "<table border=\"1\" class=\"dataframe\">\n",
       "  <thead>\n",
       "    <tr style=\"text-align: right;\">\n",
       "      <th></th>\n",
       "      <th>state</th>\n",
       "      <th>City</th>\n",
       "      <th>Place</th>\n",
       "      <th>URL</th>\n",
       "      <th>tags</th>\n",
       "    </tr>\n",
       "  </thead>\n",
       "  <tbody>\n",
       "    <tr>\n",
       "      <th>0</th>\n",
       "      <td>Himanchal Pradesh</td>\n",
       "      <td>[Manali]</td>\n",
       "      <td>[Capture, the, Sceneries, of, Old, Manali]</td>\n",
       "      <td>https://i.pinimg.com/564x/e0/69/43/e06943cb6f2...</td>\n",
       "      <td>[Manali, Capture, the, Sceneries, of, Old, Man...</td>\n",
       "    </tr>\n",
       "    <tr>\n",
       "      <th>1</th>\n",
       "      <td>Himanchal Pradesh</td>\n",
       "      <td>[Manali]</td>\n",
       "      <td>[Engage, in, the, Adventures, of, Solang, Valley]</td>\n",
       "      <td>https://i.pinimg.com/564x/e0/69/43/e06943cb6f2...</td>\n",
       "      <td>[Manali, Engage, in, the, Adventures, of, Sola...</td>\n",
       "    </tr>\n",
       "    <tr>\n",
       "      <th>2</th>\n",
       "      <td>Himanchal Pradesh</td>\n",
       "      <td>[Manali]</td>\n",
       "      <td>[Jogini, Waterfall]</td>\n",
       "      <td>https://i.pinimg.com/564x/1c/ba/14/1cba141bf72...</td>\n",
       "      <td>[Manali, Jogini, Waterfall]</td>\n",
       "    </tr>\n",
       "    <tr>\n",
       "      <th>3</th>\n",
       "      <td>Himanchal Pradesh</td>\n",
       "      <td>[Manali]</td>\n",
       "      <td>[Hadimba, Temple]</td>\n",
       "      <td>https://i.pinimg.com/564x/1c/ba/14/1cba141bf72...</td>\n",
       "      <td>[Manali, Hadimba, Temple]</td>\n",
       "    </tr>\n",
       "    <tr>\n",
       "      <th>4</th>\n",
       "      <td>Himanchal Pradesh</td>\n",
       "      <td>[Manali]</td>\n",
       "      <td>[Rohtang, Pass]</td>\n",
       "      <td>https://i.pinimg.com/564x/2a/09/43/2a09433e344...</td>\n",
       "      <td>[Manali, Rohtang, Pass]</td>\n",
       "    </tr>\n",
       "    <tr>\n",
       "      <th>...</th>\n",
       "      <td>...</td>\n",
       "      <td>...</td>\n",
       "      <td>...</td>\n",
       "      <td>...</td>\n",
       "      <td>...</td>\n",
       "    </tr>\n",
       "    <tr>\n",
       "      <th>2984</th>\n",
       "      <td>Kerela</td>\n",
       "      <td>[Poovar]</td>\n",
       "      <td>[The, Fishing, Village]</td>\n",
       "      <td>NaN</td>\n",
       "      <td>[Poovar, The, Fishing, Village]</td>\n",
       "    </tr>\n",
       "    <tr>\n",
       "      <th>2985</th>\n",
       "      <td>Kerela</td>\n",
       "      <td>[Poovar]</td>\n",
       "      <td>[Cruises]</td>\n",
       "      <td>NaN</td>\n",
       "      <td>[Poovar, Cruises]</td>\n",
       "    </tr>\n",
       "    <tr>\n",
       "      <th>2986</th>\n",
       "      <td>Kerela</td>\n",
       "      <td>[Poovar]</td>\n",
       "      <td>[Kovalam, Beach]</td>\n",
       "      <td>NaN</td>\n",
       "      <td>[Poovar, Kovalam, Beach]</td>\n",
       "    </tr>\n",
       "    <tr>\n",
       "      <th>2987</th>\n",
       "      <td>Kerela</td>\n",
       "      <td>[Poovar]</td>\n",
       "      <td>[Boat, Race]</td>\n",
       "      <td>NaN</td>\n",
       "      <td>[Poovar, Boat, Race]</td>\n",
       "    </tr>\n",
       "    <tr>\n",
       "      <th>2988</th>\n",
       "      <td>Kerela</td>\n",
       "      <td>[Poovar]</td>\n",
       "      <td>[Ayurveda]</td>\n",
       "      <td>NaN</td>\n",
       "      <td>[Poovar, Ayurveda]</td>\n",
       "    </tr>\n",
       "  </tbody>\n",
       "</table>\n",
       "<p>2989 rows × 5 columns</p>\n",
       "</div>"
      ],
      "text/plain": [
       "                  state      City  \\\n",
       "0     Himanchal Pradesh  [Manali]   \n",
       "1     Himanchal Pradesh  [Manali]   \n",
       "2     Himanchal Pradesh  [Manali]   \n",
       "3     Himanchal Pradesh  [Manali]   \n",
       "4     Himanchal Pradesh  [Manali]   \n",
       "...                 ...       ...   \n",
       "2984             Kerela  [Poovar]   \n",
       "2985             Kerela  [Poovar]   \n",
       "2986             Kerela  [Poovar]   \n",
       "2987             Kerela  [Poovar]   \n",
       "2988             Kerela  [Poovar]   \n",
       "\n",
       "                                                  Place  \\\n",
       "0            [Capture, the, Sceneries, of, Old, Manali]   \n",
       "1     [Engage, in, the, Adventures, of, Solang, Valley]   \n",
       "2                                   [Jogini, Waterfall]   \n",
       "3                                     [Hadimba, Temple]   \n",
       "4                                       [Rohtang, Pass]   \n",
       "...                                                 ...   \n",
       "2984                            [The, Fishing, Village]   \n",
       "2985                                          [Cruises]   \n",
       "2986                                   [Kovalam, Beach]   \n",
       "2987                                       [Boat, Race]   \n",
       "2988                                         [Ayurveda]   \n",
       "\n",
       "                                                    URL  \\\n",
       "0     https://i.pinimg.com/564x/e0/69/43/e06943cb6f2...   \n",
       "1     https://i.pinimg.com/564x/e0/69/43/e06943cb6f2...   \n",
       "2     https://i.pinimg.com/564x/1c/ba/14/1cba141bf72...   \n",
       "3     https://i.pinimg.com/564x/1c/ba/14/1cba141bf72...   \n",
       "4     https://i.pinimg.com/564x/2a/09/43/2a09433e344...   \n",
       "...                                                 ...   \n",
       "2984                                                NaN   \n",
       "2985                                                NaN   \n",
       "2986                                                NaN   \n",
       "2987                                                NaN   \n",
       "2988                                                NaN   \n",
       "\n",
       "                                                   tags  \n",
       "0     [Manali, Capture, the, Sceneries, of, Old, Man...  \n",
       "1     [Manali, Engage, in, the, Adventures, of, Sola...  \n",
       "2                           [Manali, Jogini, Waterfall]  \n",
       "3                             [Manali, Hadimba, Temple]  \n",
       "4                               [Manali, Rohtang, Pass]  \n",
       "...                                                 ...  \n",
       "2984                    [Poovar, The, Fishing, Village]  \n",
       "2985                                  [Poovar, Cruises]  \n",
       "2986                           [Poovar, Kovalam, Beach]  \n",
       "2987                               [Poovar, Boat, Race]  \n",
       "2988                                 [Poovar, Ayurveda]  \n",
       "\n",
       "[2989 rows x 5 columns]"
      ]
     },
     "execution_count": 30,
     "metadata": {},
     "output_type": "execute_result"
    }
   ],
   "source": [
    "new_tour"
   ]
  },
  {
   "cell_type": "code",
   "execution_count": 31,
   "id": "5a114583",
   "metadata": {},
   "outputs": [],
   "source": [
    "new_tour['City'] = new_tour['City'].apply(lambda x:\" \".join(x))"
   ]
  },
  {
   "cell_type": "code",
   "execution_count": 32,
   "id": "a033623d",
   "metadata": {},
   "outputs": [],
   "source": [
    "new_tour['Place'] = new_tour['Place'].apply(lambda x:\" \".join(x))"
   ]
  },
  {
   "cell_type": "code",
   "execution_count": 33,
   "id": "d7764d71",
   "metadata": {},
   "outputs": [],
   "source": [
    " new_tour['tags'] = new_tour['tags'].apply(lambda x:\" \".join(x))"
   ]
  },
  {
   "cell_type": "code",
   "execution_count": 34,
   "id": "876c3df3",
   "metadata": {},
   "outputs": [
    {
     "data": {
      "text/html": [
       "<div>\n",
       "<style scoped>\n",
       "    .dataframe tbody tr th:only-of-type {\n",
       "        vertical-align: middle;\n",
       "    }\n",
       "\n",
       "    .dataframe tbody tr th {\n",
       "        vertical-align: top;\n",
       "    }\n",
       "\n",
       "    .dataframe thead th {\n",
       "        text-align: right;\n",
       "    }\n",
       "</style>\n",
       "<table border=\"1\" class=\"dataframe\">\n",
       "  <thead>\n",
       "    <tr style=\"text-align: right;\">\n",
       "      <th></th>\n",
       "      <th>state</th>\n",
       "      <th>City</th>\n",
       "      <th>Place</th>\n",
       "      <th>URL</th>\n",
       "      <th>tags</th>\n",
       "    </tr>\n",
       "  </thead>\n",
       "  <tbody>\n",
       "    <tr>\n",
       "      <th>0</th>\n",
       "      <td>Himanchal Pradesh</td>\n",
       "      <td>Manali</td>\n",
       "      <td>Capture the Sceneries of Old Manali</td>\n",
       "      <td>https://i.pinimg.com/564x/e0/69/43/e06943cb6f2...</td>\n",
       "      <td>Manali Capture the Sceneries of Old Manali</td>\n",
       "    </tr>\n",
       "    <tr>\n",
       "      <th>1</th>\n",
       "      <td>Himanchal Pradesh</td>\n",
       "      <td>Manali</td>\n",
       "      <td>Engage in the Adventures of Solang Valley</td>\n",
       "      <td>https://i.pinimg.com/564x/e0/69/43/e06943cb6f2...</td>\n",
       "      <td>Manali Engage in the Adventures of Solang Valley</td>\n",
       "    </tr>\n",
       "    <tr>\n",
       "      <th>2</th>\n",
       "      <td>Himanchal Pradesh</td>\n",
       "      <td>Manali</td>\n",
       "      <td>Jogini Waterfall</td>\n",
       "      <td>https://i.pinimg.com/564x/1c/ba/14/1cba141bf72...</td>\n",
       "      <td>Manali Jogini Waterfall</td>\n",
       "    </tr>\n",
       "    <tr>\n",
       "      <th>3</th>\n",
       "      <td>Himanchal Pradesh</td>\n",
       "      <td>Manali</td>\n",
       "      <td>Hadimba Temple</td>\n",
       "      <td>https://i.pinimg.com/564x/1c/ba/14/1cba141bf72...</td>\n",
       "      <td>Manali Hadimba Temple</td>\n",
       "    </tr>\n",
       "    <tr>\n",
       "      <th>4</th>\n",
       "      <td>Himanchal Pradesh</td>\n",
       "      <td>Manali</td>\n",
       "      <td>Rohtang Pass</td>\n",
       "      <td>https://i.pinimg.com/564x/2a/09/43/2a09433e344...</td>\n",
       "      <td>Manali Rohtang Pass</td>\n",
       "    </tr>\n",
       "    <tr>\n",
       "      <th>...</th>\n",
       "      <td>...</td>\n",
       "      <td>...</td>\n",
       "      <td>...</td>\n",
       "      <td>...</td>\n",
       "      <td>...</td>\n",
       "    </tr>\n",
       "    <tr>\n",
       "      <th>2984</th>\n",
       "      <td>Kerela</td>\n",
       "      <td>Poovar</td>\n",
       "      <td>The Fishing Village</td>\n",
       "      <td>NaN</td>\n",
       "      <td>Poovar The Fishing Village</td>\n",
       "    </tr>\n",
       "    <tr>\n",
       "      <th>2985</th>\n",
       "      <td>Kerela</td>\n",
       "      <td>Poovar</td>\n",
       "      <td>Cruises</td>\n",
       "      <td>NaN</td>\n",
       "      <td>Poovar Cruises</td>\n",
       "    </tr>\n",
       "    <tr>\n",
       "      <th>2986</th>\n",
       "      <td>Kerela</td>\n",
       "      <td>Poovar</td>\n",
       "      <td>Kovalam Beach</td>\n",
       "      <td>NaN</td>\n",
       "      <td>Poovar Kovalam Beach</td>\n",
       "    </tr>\n",
       "    <tr>\n",
       "      <th>2987</th>\n",
       "      <td>Kerela</td>\n",
       "      <td>Poovar</td>\n",
       "      <td>Boat Race</td>\n",
       "      <td>NaN</td>\n",
       "      <td>Poovar Boat Race</td>\n",
       "    </tr>\n",
       "    <tr>\n",
       "      <th>2988</th>\n",
       "      <td>Kerela</td>\n",
       "      <td>Poovar</td>\n",
       "      <td>Ayurveda</td>\n",
       "      <td>NaN</td>\n",
       "      <td>Poovar Ayurveda</td>\n",
       "    </tr>\n",
       "  </tbody>\n",
       "</table>\n",
       "<p>2989 rows × 5 columns</p>\n",
       "</div>"
      ],
      "text/plain": [
       "                  state    City                                      Place  \\\n",
       "0     Himanchal Pradesh  Manali        Capture the Sceneries of Old Manali   \n",
       "1     Himanchal Pradesh  Manali  Engage in the Adventures of Solang Valley   \n",
       "2     Himanchal Pradesh  Manali                           Jogini Waterfall   \n",
       "3     Himanchal Pradesh  Manali                             Hadimba Temple   \n",
       "4     Himanchal Pradesh  Manali                               Rohtang Pass   \n",
       "...                 ...     ...                                        ...   \n",
       "2984             Kerela  Poovar                        The Fishing Village   \n",
       "2985             Kerela  Poovar                                    Cruises   \n",
       "2986             Kerela  Poovar                              Kovalam Beach   \n",
       "2987             Kerela  Poovar                                  Boat Race   \n",
       "2988             Kerela  Poovar                                   Ayurveda   \n",
       "\n",
       "                                                    URL  \\\n",
       "0     https://i.pinimg.com/564x/e0/69/43/e06943cb6f2...   \n",
       "1     https://i.pinimg.com/564x/e0/69/43/e06943cb6f2...   \n",
       "2     https://i.pinimg.com/564x/1c/ba/14/1cba141bf72...   \n",
       "3     https://i.pinimg.com/564x/1c/ba/14/1cba141bf72...   \n",
       "4     https://i.pinimg.com/564x/2a/09/43/2a09433e344...   \n",
       "...                                                 ...   \n",
       "2984                                                NaN   \n",
       "2985                                                NaN   \n",
       "2986                                                NaN   \n",
       "2987                                                NaN   \n",
       "2988                                                NaN   \n",
       "\n",
       "                                                  tags  \n",
       "0           Manali Capture the Sceneries of Old Manali  \n",
       "1     Manali Engage in the Adventures of Solang Valley  \n",
       "2                              Manali Jogini Waterfall  \n",
       "3                                Manali Hadimba Temple  \n",
       "4                                  Manali Rohtang Pass  \n",
       "...                                                ...  \n",
       "2984                        Poovar The Fishing Village  \n",
       "2985                                    Poovar Cruises  \n",
       "2986                              Poovar Kovalam Beach  \n",
       "2987                                  Poovar Boat Race  \n",
       "2988                                   Poovar Ayurveda  \n",
       "\n",
       "[2989 rows x 5 columns]"
      ]
     },
     "execution_count": 34,
     "metadata": {},
     "output_type": "execute_result"
    }
   ],
   "source": [
    "new_tour"
   ]
  },
  {
   "cell_type": "code",
   "execution_count": 35,
   "id": "a76feeb2",
   "metadata": {},
   "outputs": [],
   "source": [
    "new_tour.to_csv(\"trialfinal.csv\", index = False)"
   ]
  },
  {
   "cell_type": "code",
   "execution_count": null,
   "id": "d5d8db09",
   "metadata": {},
   "outputs": [],
   "source": []
  },
  {
   "cell_type": "code",
   "execution_count": 36,
   "id": "d0d812c2",
   "metadata": {},
   "outputs": [],
   "source": [
    "import nltk\n"
   ]
  },
  {
   "cell_type": "code",
   "execution_count": 37,
   "id": "760a6b29",
   "metadata": {},
   "outputs": [],
   "source": [
    "from nltk.stem.porter import PorterStemmer\n",
    "ps  = PorterStemmer()"
   ]
  },
  {
   "cell_type": "code",
   "execution_count": 38,
   "id": "5f83c8ed",
   "metadata": {},
   "outputs": [],
   "source": [
    "def stem(text):\n",
    "    y=[]\n",
    "    \n",
    "    for i in text.split():\n",
    "        y.append(ps.stem(i))\n",
    "        \n",
    "    return \" \".join(y)"
   ]
  },
  {
   "cell_type": "code",
   "execution_count": 39,
   "id": "30bcfdd1",
   "metadata": {},
   "outputs": [],
   "source": [
    "new_tour['tags'] = new_tour['tags'].apply(stem)"
   ]
  },
  {
   "cell_type": "code",
   "execution_count": 40,
   "id": "bfc7e258",
   "metadata": {},
   "outputs": [
    {
     "data": {
      "text/plain": [
       "'manali captur the sceneri of old manali'"
      ]
     },
     "execution_count": 40,
     "metadata": {},
     "output_type": "execute_result"
    }
   ],
   "source": [
    "new_tour['tags'][0]"
   ]
  },
  {
   "cell_type": "code",
   "execution_count": 41,
   "id": "790eeed7",
   "metadata": {},
   "outputs": [],
   "source": [
    " new_tour['tags'] = new_tour['tags'].apply(lambda x:x.lower())"
   ]
  },
  {
   "cell_type": "code",
   "execution_count": 42,
   "id": "15ed0a61",
   "metadata": {},
   "outputs": [
    {
     "data": {
      "text/plain": [
       "'manali captur the sceneri of old manali'"
      ]
     },
     "execution_count": 42,
     "metadata": {},
     "output_type": "execute_result"
    }
   ],
   "source": [
    "new_tour['tags'][0]"
   ]
  },
  {
   "cell_type": "code",
   "execution_count": 43,
   "id": "11ef75d0",
   "metadata": {},
   "outputs": [],
   "source": [
    "from sklearn.feature_extraction.text import CountVectorizer\n",
    "cv = CountVectorizer(max_features = 5000 , stop_words = 'english')"
   ]
  },
  {
   "cell_type": "code",
   "execution_count": 44,
   "id": "0e1d7578",
   "metadata": {},
   "outputs": [],
   "source": [
    "vectors = cv.fit_transform(new_tour['tags']).toarray()"
   ]
  },
  {
   "cell_type": "code",
   "execution_count": 45,
   "id": "c7094066",
   "metadata": {},
   "outputs": [
    {
     "data": {
      "text/plain": [
       "array([[0, 0, 0, ..., 0, 0, 0],\n",
       "       [0, 0, 0, ..., 0, 0, 0],\n",
       "       [0, 0, 0, ..., 0, 0, 0],\n",
       "       ...,\n",
       "       [0, 0, 0, ..., 0, 0, 0],\n",
       "       [0, 0, 0, ..., 0, 0, 0],\n",
       "       [0, 0, 0, ..., 0, 0, 0]], dtype=int64)"
      ]
     },
     "execution_count": 45,
     "metadata": {},
     "output_type": "execute_result"
    }
   ],
   "source": [
    "vectors"
   ]
  },
  {
   "cell_type": "code",
   "execution_count": 46,
   "id": "6773f44a",
   "metadata": {},
   "outputs": [
    {
     "data": {
      "text/plain": [
       "array([0, 0, 0, ..., 0, 0, 0], dtype=int64)"
      ]
     },
     "execution_count": 46,
     "metadata": {},
     "output_type": "execute_result"
    }
   ],
   "source": [
    "vectors[0]"
   ]
  },
  {
   "cell_type": "code",
   "execution_count": 47,
   "id": "6348bf5a",
   "metadata": {},
   "outputs": [
    {
     "data": {
      "text/plain": [
       "array(['7th', 'aambi', 'aarti', ..., 'zoo', 'zoolog', 'zorb'],\n",
       "      dtype=object)"
      ]
     },
     "execution_count": 47,
     "metadata": {},
     "output_type": "execute_result"
    }
   ],
   "source": [
    "cv.get_feature_names_out()"
   ]
  },
  {
   "cell_type": "code",
   "execution_count": 48,
   "id": "7b1e5408",
   "metadata": {},
   "outputs": [
    {
     "data": {
      "text/plain": [
       "'manali captur the sceneri of old manali'"
      ]
     },
     "execution_count": 48,
     "metadata": {},
     "output_type": "execute_result"
    }
   ],
   "source": [
    "ps.stem('manali captur the sceneri of old manali')"
   ]
  },
  {
   "cell_type": "code",
   "execution_count": 49,
   "id": "74454d69",
   "metadata": {},
   "outputs": [],
   "source": [
    "from sklearn.metrics.pairwise import cosine_similarity\n"
   ]
  },
  {
   "cell_type": "code",
   "execution_count": 50,
   "id": "a8418403",
   "metadata": {},
   "outputs": [],
   "source": [
    "similarity = cosine_similarity(vectors)"
   ]
  },
  {
   "cell_type": "code",
   "execution_count": 51,
   "id": "31c0a17a",
   "metadata": {},
   "outputs": [
    {
     "data": {
      "text/plain": [
       "[(46, 0.6761234037828132),\n",
       " (47, 0.6172133998483676),\n",
       " (32, 0.5714285714285713),\n",
       " (13, 0.5345224838248487),\n",
       " (17, 0.5345224838248487)]"
      ]
     },
     "execution_count": 51,
     "metadata": {},
     "output_type": "execute_result"
    }
   ],
   "source": [
    "sorted(list(enumerate(similarity[0])),reverse = True,key = lambda x:x[1])[1:6]"
   ]
  },
  {
   "cell_type": "code",
   "execution_count": 52,
   "id": "b92a5652",
   "metadata": {},
   "outputs": [
    {
     "data": {
      "text/html": [
       "<div>\n",
       "<style scoped>\n",
       "    .dataframe tbody tr th:only-of-type {\n",
       "        vertical-align: middle;\n",
       "    }\n",
       "\n",
       "    .dataframe tbody tr th {\n",
       "        vertical-align: top;\n",
       "    }\n",
       "\n",
       "    .dataframe thead th {\n",
       "        text-align: right;\n",
       "    }\n",
       "</style>\n",
       "<table border=\"1\" class=\"dataframe\">\n",
       "  <thead>\n",
       "    <tr style=\"text-align: right;\">\n",
       "      <th></th>\n",
       "      <th>state</th>\n",
       "      <th>City</th>\n",
       "      <th>Place</th>\n",
       "      <th>URL</th>\n",
       "      <th>tags</th>\n",
       "    </tr>\n",
       "  </thead>\n",
       "  <tbody>\n",
       "    <tr>\n",
       "      <th>0</th>\n",
       "      <td>Himanchal Pradesh</td>\n",
       "      <td>Manali</td>\n",
       "      <td>Capture the Sceneries of Old Manali</td>\n",
       "      <td>https://i.pinimg.com/564x/e0/69/43/e06943cb6f2...</td>\n",
       "      <td>manali captur the sceneri of old manali</td>\n",
       "    </tr>\n",
       "    <tr>\n",
       "      <th>1</th>\n",
       "      <td>Himanchal Pradesh</td>\n",
       "      <td>Manali</td>\n",
       "      <td>Engage in the Adventures of Solang Valley</td>\n",
       "      <td>https://i.pinimg.com/564x/e0/69/43/e06943cb6f2...</td>\n",
       "      <td>manali engag in the adventur of solang valley</td>\n",
       "    </tr>\n",
       "    <tr>\n",
       "      <th>2</th>\n",
       "      <td>Himanchal Pradesh</td>\n",
       "      <td>Manali</td>\n",
       "      <td>Jogini Waterfall</td>\n",
       "      <td>https://i.pinimg.com/564x/1c/ba/14/1cba141bf72...</td>\n",
       "      <td>manali jogini waterfal</td>\n",
       "    </tr>\n",
       "    <tr>\n",
       "      <th>3</th>\n",
       "      <td>Himanchal Pradesh</td>\n",
       "      <td>Manali</td>\n",
       "      <td>Hadimba Temple</td>\n",
       "      <td>https://i.pinimg.com/564x/1c/ba/14/1cba141bf72...</td>\n",
       "      <td>manali hadimba templ</td>\n",
       "    </tr>\n",
       "    <tr>\n",
       "      <th>4</th>\n",
       "      <td>Himanchal Pradesh</td>\n",
       "      <td>Manali</td>\n",
       "      <td>Rohtang Pass</td>\n",
       "      <td>https://i.pinimg.com/564x/2a/09/43/2a09433e344...</td>\n",
       "      <td>manali rohtang pass</td>\n",
       "    </tr>\n",
       "    <tr>\n",
       "      <th>...</th>\n",
       "      <td>...</td>\n",
       "      <td>...</td>\n",
       "      <td>...</td>\n",
       "      <td>...</td>\n",
       "      <td>...</td>\n",
       "    </tr>\n",
       "    <tr>\n",
       "      <th>2984</th>\n",
       "      <td>Kerela</td>\n",
       "      <td>Poovar</td>\n",
       "      <td>The Fishing Village</td>\n",
       "      <td>NaN</td>\n",
       "      <td>poovar the fish villag</td>\n",
       "    </tr>\n",
       "    <tr>\n",
       "      <th>2985</th>\n",
       "      <td>Kerela</td>\n",
       "      <td>Poovar</td>\n",
       "      <td>Cruises</td>\n",
       "      <td>NaN</td>\n",
       "      <td>poovar cruis</td>\n",
       "    </tr>\n",
       "    <tr>\n",
       "      <th>2986</th>\n",
       "      <td>Kerela</td>\n",
       "      <td>Poovar</td>\n",
       "      <td>Kovalam Beach</td>\n",
       "      <td>NaN</td>\n",
       "      <td>poovar kovalam beach</td>\n",
       "    </tr>\n",
       "    <tr>\n",
       "      <th>2987</th>\n",
       "      <td>Kerela</td>\n",
       "      <td>Poovar</td>\n",
       "      <td>Boat Race</td>\n",
       "      <td>NaN</td>\n",
       "      <td>poovar boat race</td>\n",
       "    </tr>\n",
       "    <tr>\n",
       "      <th>2988</th>\n",
       "      <td>Kerela</td>\n",
       "      <td>Poovar</td>\n",
       "      <td>Ayurveda</td>\n",
       "      <td>NaN</td>\n",
       "      <td>poovar ayurveda</td>\n",
       "    </tr>\n",
       "  </tbody>\n",
       "</table>\n",
       "<p>2989 rows × 5 columns</p>\n",
       "</div>"
      ],
      "text/plain": [
       "                  state    City                                      Place  \\\n",
       "0     Himanchal Pradesh  Manali        Capture the Sceneries of Old Manali   \n",
       "1     Himanchal Pradesh  Manali  Engage in the Adventures of Solang Valley   \n",
       "2     Himanchal Pradesh  Manali                           Jogini Waterfall   \n",
       "3     Himanchal Pradesh  Manali                             Hadimba Temple   \n",
       "4     Himanchal Pradesh  Manali                               Rohtang Pass   \n",
       "...                 ...     ...                                        ...   \n",
       "2984             Kerela  Poovar                        The Fishing Village   \n",
       "2985             Kerela  Poovar                                    Cruises   \n",
       "2986             Kerela  Poovar                              Kovalam Beach   \n",
       "2987             Kerela  Poovar                                  Boat Race   \n",
       "2988             Kerela  Poovar                                   Ayurveda   \n",
       "\n",
       "                                                    URL  \\\n",
       "0     https://i.pinimg.com/564x/e0/69/43/e06943cb6f2...   \n",
       "1     https://i.pinimg.com/564x/e0/69/43/e06943cb6f2...   \n",
       "2     https://i.pinimg.com/564x/1c/ba/14/1cba141bf72...   \n",
       "3     https://i.pinimg.com/564x/1c/ba/14/1cba141bf72...   \n",
       "4     https://i.pinimg.com/564x/2a/09/43/2a09433e344...   \n",
       "...                                                 ...   \n",
       "2984                                                NaN   \n",
       "2985                                                NaN   \n",
       "2986                                                NaN   \n",
       "2987                                                NaN   \n",
       "2988                                                NaN   \n",
       "\n",
       "                                               tags  \n",
       "0           manali captur the sceneri of old manali  \n",
       "1     manali engag in the adventur of solang valley  \n",
       "2                            manali jogini waterfal  \n",
       "3                              manali hadimba templ  \n",
       "4                               manali rohtang pass  \n",
       "...                                             ...  \n",
       "2984                         poovar the fish villag  \n",
       "2985                                   poovar cruis  \n",
       "2986                           poovar kovalam beach  \n",
       "2987                               poovar boat race  \n",
       "2988                                poovar ayurveda  \n",
       "\n",
       "[2989 rows x 5 columns]"
      ]
     },
     "execution_count": 52,
     "metadata": {},
     "output_type": "execute_result"
    }
   ],
   "source": [
    "new_tour"
   ]
  },
  {
   "cell_type": "code",
   "execution_count": 53,
   "id": "34dfcb67",
   "metadata": {},
   "outputs": [],
   "source": [
    "def recommend(tourism):\n",
    "    city_match = new_tour[new_tour['City'] == tourism]\n",
    "    state_match = new_tour[new_tour['state'] == tourism]\n",
    "    \n",
    "    if not city_match.empty:\n",
    "        tour_index = city_match.index[0]\n",
    "    elif not state_match.empty:\n",
    "        tour_index = state_match.index[0]\n",
    "    else:\n",
    "        print(\"No matching city or state found.\")\n",
    "        return\n",
    "    \n",
    "    distances = similarity[tour_index]\n",
    "    tour_list = sorted(list(enumerate(distances)), reverse=True, key=lambda x: x[1])[1:6]\n",
    "    \n",
    "    #data = []\n",
    "    for i in tour_list:\n",
    "        print(new_tour.iloc[i[0]].Place, new_tour.iloc[i[0]].City , new_tour.iloc[i[0]].state , new_tour.iloc[i[0]].URL)\n",
    "        #data.append(this_list)\n",
    "        \n",
    "    \n",
    "    return \n"
   ]
  },
  {
   "cell_type": "code",
   "execution_count": 54,
   "id": "54f75d17",
   "metadata": {},
   "outputs": [
    {
     "name": "stdout",
     "output_type": "stream",
     "text": [
      "Nainital Ropeway Nainital Uttarakhand https://i.pinimg.com/564x/e5/13/68/e51368551769359865c2d033e277f6e3.jpg\n",
      "Bhimtal Nainital Uttarakhand https://i.pinimg.com/564x/d0/9b/7a/d09b7a77984a5e6bf17aeae220422198.jpg\n",
      "Sattal Nainital Uttarakhand https://i.pinimg.com/564x/16/64/d9/1664d96ea64823c7e7d3ad98731c0f46.jpg\n",
      "Pangot Nainital Uttarakhand https://i.pinimg.com/564x/af/72/a5/af72a5b5f3ec4b9e78386d2c10b11078.jpg\n",
      "Jeolikot Nainital Uttarakhand https://i.pinimg.com/564x/68/59/ab/6859abdc109a3995cf7349bcb70aecfb.jpg\n"
     ]
    }
   ],
   "source": [
    "recommend('Nainital')"
   ]
  },
  {
   "cell_type": "code",
   "execution_count": 55,
   "id": "b2398525",
   "metadata": {},
   "outputs": [],
   "source": [
    "def recommend(tourism):\n",
    "    city_match = new_tour[new_tour['City'] == tourism]\n",
    "    state_match = new_tour[new_tour['state'] == tourism]\n",
    "    \n",
    "    if not city_match.empty:\n",
    "        tour_index = city_match.index[0]\n",
    "    elif not state_match.empty:\n",
    "        tour_index = state_match.index[0]\n",
    "    else:\n",
    "        print(\"No matching city or state found.\")\n",
    "        return\n",
    "    \n",
    "    distances = similarity[tour_index]\n",
    "    tour_list = sorted(list(enumerate(distances)), reverse=True, key=lambda x: x[1])[1:6]\n",
    "    \n",
    "    data = []\n",
    "    for i in tour_list:\n",
    "        final_list =[(new_tour.iloc[i[0]].Place),(new_tour.iloc[i[0]].City),(new_tour.iloc[i[0]].state),(new_tour.iloc[i[0]].URL)]\n",
    "         \n",
    "        data.append(final_list)\n",
    "        \n",
    "    \n",
    "    return data"
   ]
  },
  {
   "cell_type": "code",
   "execution_count": 56,
   "id": "01ba7813",
   "metadata": {},
   "outputs": [
    {
     "data": {
      "text/plain": [
       "[['Nainital Ropeway',\n",
       "  'Nainital',\n",
       "  'Uttarakhand',\n",
       "  'https://i.pinimg.com/564x/e5/13/68/e51368551769359865c2d033e277f6e3.jpg'],\n",
       " ['Bhimtal',\n",
       "  'Nainital',\n",
       "  'Uttarakhand',\n",
       "  'https://i.pinimg.com/564x/d0/9b/7a/d09b7a77984a5e6bf17aeae220422198.jpg'],\n",
       " ['Sattal',\n",
       "  'Nainital',\n",
       "  'Uttarakhand',\n",
       "  'https://i.pinimg.com/564x/16/64/d9/1664d96ea64823c7e7d3ad98731c0f46.jpg'],\n",
       " ['Pangot',\n",
       "  'Nainital',\n",
       "  'Uttarakhand',\n",
       "  'https://i.pinimg.com/564x/af/72/a5/af72a5b5f3ec4b9e78386d2c10b11078.jpg'],\n",
       " ['Jeolikot',\n",
       "  'Nainital',\n",
       "  'Uttarakhand',\n",
       "  'https://i.pinimg.com/564x/68/59/ab/6859abdc109a3995cf7349bcb70aecfb.jpg']]"
      ]
     },
     "execution_count": 56,
     "metadata": {},
     "output_type": "execute_result"
    }
   ],
   "source": [
    "recommend('Nainital')"
   ]
  },
  {
   "cell_type": "code",
   "execution_count": 57,
   "id": "acf8a666",
   "metadata": {},
   "outputs": [],
   "source": [
    "import pickle\n"
   ]
  },
  {
   "cell_type": "code",
   "execution_count": 58,
   "id": "f9e32274",
   "metadata": {},
   "outputs": [],
   "source": [
    "pickle.dump(new_tour,open('new_tour.pkl','wb'))"
   ]
  },
  {
   "cell_type": "code",
   "execution_count": 59,
   "id": "134b25cc",
   "metadata": {},
   "outputs": [],
   "source": [
    "\n",
    "pickle.dump(similarity,open('similarity.pkl','wb'))"
   ]
  },
  {
   "cell_type": "code",
   "execution_count": 60,
   "id": "d462674b",
   "metadata": {},
   "outputs": [],
   "source": [
    "pickle.dump(tour,open('tour.pkl','wb'))"
   ]
  },
  {
   "cell_type": "code",
   "execution_count": null,
   "id": "5f67cc9a",
   "metadata": {},
   "outputs": [],
   "source": []
  },
  {
   "cell_type": "code",
   "execution_count": null,
   "id": "a616064d",
   "metadata": {},
   "outputs": [],
   "source": []
  },
  {
   "cell_type": "code",
   "execution_count": null,
   "id": "86173ad9",
   "metadata": {},
   "outputs": [],
   "source": []
  },
  {
   "cell_type": "code",
   "execution_count": null,
   "id": "a9814170",
   "metadata": {},
   "outputs": [],
   "source": []
  },
  {
   "cell_type": "code",
   "execution_count": null,
   "id": "8feb6ad7",
   "metadata": {},
   "outputs": [],
   "source": []
  },
  {
   "cell_type": "code",
   "execution_count": null,
   "id": "4b539df1",
   "metadata": {},
   "outputs": [],
   "source": []
  },
  {
   "cell_type": "code",
   "execution_count": null,
   "id": "2a8caceb",
   "metadata": {},
   "outputs": [],
   "source": []
  },
  {
   "cell_type": "code",
   "execution_count": null,
   "id": "f3483deb",
   "metadata": {},
   "outputs": [],
   "source": []
  },
  {
   "cell_type": "code",
   "execution_count": null,
   "id": "1102b28a",
   "metadata": {},
   "outputs": [],
   "source": []
  },
  {
   "cell_type": "code",
   "execution_count": null,
   "id": "37552321",
   "metadata": {},
   "outputs": [],
   "source": []
  }
 ],
 "metadata": {
  "kernelspec": {
   "display_name": "Python 3 (ipykernel)",
   "language": "python",
   "name": "python3"
  },
  "language_info": {
   "codemirror_mode": {
    "name": "ipython",
    "version": 3
   },
   "file_extension": ".py",
   "mimetype": "text/x-python",
   "name": "python",
   "nbconvert_exporter": "python",
   "pygments_lexer": "ipython3",
   "version": "3.9.13"
  }
 },
 "nbformat": 4,
 "nbformat_minor": 5
}
